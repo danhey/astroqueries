{
 "cells": [
  {
   "cell_type": "markdown",
   "metadata": {},
   "source": [
    "Let's say you have a list of stars from another catalogue, and you want to find out whether or not they've been observed by _TESS_ in 2-min cadence. Astroquery makes this straightforward! Below is a table of supported IDs from other catalogues. If you only have positions, check out the other notebook for cross-matching."
   ]
  },
  {
   "cell_type": "markdown",
   "metadata": {},
   "source": [
    "| ID Name                          | Query name |\n",
    "|----------------------------------|------------|\n",
    "| TESS (obviously!)                | ID         |\n",
    "| Hipparchos                       | HIP        |\n",
    "| Tycho-2                          | TYC        |\n",
    "| Two Micron All-Sky Survey        | 2MASS      |\n",
    "| Sloan Digital Sky Survey         | SDSS       |\n",
    "| AllWISE                          | ALLWISE    |\n",
    "| Gaia DR2                         | GAIA       |\n",
    "| AAVSO Photometric All-Sky Survey | APASS      |\n",
    "| Kepler                           | KIC        |"
   ]
  },
  {
   "cell_type": "code",
   "execution_count": 1,
   "metadata": {},
   "outputs": [],
   "source": [
    "from astroquery.mast import Observations, Catalogs\n",
    "import numpy as np"
   ]
  },
  {
   "cell_type": "markdown",
   "metadata": {},
   "source": [
    "Here are some random Gaia IDs that I picked out. Note that the Catalogs object supports arrays of objects, so you don't need to loop over each ID. This works for upwards of 50 000 stars."
   ]
  },
  {
   "cell_type": "code",
   "execution_count": 12,
   "metadata": {},
   "outputs": [],
   "source": [
    "gaia_ids = np.array(['2394480109022713856', \n",
    "                     '2412009691624092288'])"
   ]
  },
  {
   "cell_type": "markdown",
   "metadata": {},
   "source": [
    "Now we can query the TESS Input Catalogue. Note the two keyword arguments, `catalog` ensures that we query the TIC, and `GAIA` says that we want to query by Gaia IDs. If we had, say, Kepler IDs, we would replace `GAIA` with `KIC` following the table above."
   ]
  },
  {
   "cell_type": "code",
   "execution_count": 13,
   "metadata": {},
   "outputs": [],
   "source": [
    "result = Catalogs.query_criteria(catalog=\"Tic\", GAIA=gaia_ids)"
   ]
  },
  {
   "cell_type": "code",
   "execution_count": 24,
   "metadata": {},
   "outputs": [
    {
     "data": {
      "text/html": [
       "<i>Table masked=True length=2</i>\n",
       "<table id=\"table4780200016\" class=\"table-striped table-bordered table-condensed\">\n",
       "<thead><tr><th>ID</th><th>version</th><th>HIP</th><th>TYC</th><th>UCAC</th><th>TWOMASS</th><th>SDSS</th><th>ALLWISE</th><th>GAIA</th><th>APASS</th><th>KIC</th><th>objType</th><th>typeSrc</th><th>ra</th><th>dec</th><th>POSflag</th><th>pmRA</th><th>e_pmRA</th><th>pmDEC</th><th>e_pmDEC</th><th>PMflag</th><th>plx</th><th>e_plx</th><th>PARflag</th><th>gallong</th><th>gallat</th><th>eclong</th><th>eclat</th><th>Bmag</th><th>e_Bmag</th><th>Vmag</th><th>e_Vmag</th><th>umag</th><th>e_umag</th><th>gmag</th><th>e_gmag</th><th>rmag</th><th>e_rmag</th><th>imag</th><th>e_imag</th><th>zmag</th><th>e_zmag</th><th>Jmag</th><th>e_Jmag</th><th>Hmag</th><th>e_Hmag</th><th>Kmag</th><th>e_Kmag</th><th>TWOMflag</th><th>prox</th><th>w1mag</th><th>e_w1mag</th><th>w2mag</th><th>e_w2mag</th><th>w3mag</th><th>e_w3mag</th><th>w4mag</th><th>e_w4mag</th><th>GAIAmag</th><th>e_GAIAmag</th><th>Tmag</th><th>e_Tmag</th><th>TESSflag</th><th>SPFlag</th><th>Teff</th><th>e_Teff</th><th>logg</th><th>e_logg</th><th>MH</th><th>e_MH</th><th>rad</th><th>e_rad</th><th>mass</th><th>e_mass</th><th>rho</th><th>e_rho</th><th>lumclass</th><th>lum</th><th>e_lum</th><th>d</th><th>e_d</th><th>ebv</th><th>e_ebv</th><th>numcont</th><th>contratio</th><th>disposition</th><th>duplicate_id</th><th>priority</th><th>eneg_EBV</th><th>epos_EBV</th><th>EBVflag</th><th>eneg_Mass</th><th>epos_Mass</th><th>eneg_Rad</th><th>epos_Rad</th><th>eneg_rho</th><th>epos_rho</th><th>eneg_logg</th><th>epos_logg</th><th>eneg_lum</th><th>epos_lum</th><th>eneg_dist</th><th>epos_dist</th><th>distflag</th><th>eneg_Teff</th><th>epos_Teff</th><th>TeffFlag</th><th>gaiabp</th><th>e_gaiabp</th><th>gaiarp</th><th>e_gaiarp</th><th>gaiaqflag</th><th>starchareFlag</th><th>VmagFlag</th><th>BmagFlag</th><th>splists</th><th>e_RA</th><th>e_Dec</th><th>RA_orig</th><th>Dec_orig</th><th>e_RA_orig</th><th>e_Dec_orig</th><th>raddflag</th><th>wdflag</th><th>objID</th></tr></thead>\n",
       "<thead><tr><th>str7</th><th>str8</th><th>int64</th><th>str1</th><th>str10</th><th>str16</th><th>str1</th><th>str19</th><th>str19</th><th>str1</th><th>int64</th><th>str4</th><th>str7</th><th>float64</th><th>float64</th><th>str7</th><th>float64</th><th>float64</th><th>float64</th><th>float64</th><th>str5</th><th>float64</th><th>float64</th><th>str5</th><th>float64</th><th>float64</th><th>float64</th><th>float64</th><th>float64</th><th>float64</th><th>float64</th><th>float64</th><th>float64</th><th>float64</th><th>float64</th><th>float64</th><th>float64</th><th>float64</th><th>float64</th><th>float64</th><th>float64</th><th>float64</th><th>float64</th><th>float64</th><th>float64</th><th>float64</th><th>float64</th><th>float64</th><th>str19</th><th>float64</th><th>float64</th><th>float64</th><th>float64</th><th>float64</th><th>float64</th><th>float64</th><th>float64</th><th>float64</th><th>float64</th><th>float64</th><th>float64</th><th>float64</th><th>str5</th><th>str5</th><th>float64</th><th>float64</th><th>float64</th><th>float64</th><th>float64</th><th>float64</th><th>float64</th><th>float64</th><th>float64</th><th>float64</th><th>float64</th><th>float64</th><th>str5</th><th>float64</th><th>float64</th><th>float64</th><th>float64</th><th>float64</th><th>float64</th><th>int64</th><th>float64</th><th>str1</th><th>str1</th><th>float64</th><th>float64</th><th>float64</th><th>str9</th><th>float64</th><th>float64</th><th>float64</th><th>float64</th><th>float64</th><th>float64</th><th>float64</th><th>float64</th><th>float64</th><th>float64</th><th>float64</th><th>float64</th><th>str6</th><th>float64</th><th>float64</th><th>str5</th><th>float64</th><th>float64</th><th>float64</th><th>float64</th><th>int64</th><th>str1</th><th>str5</th><th>str4</th><th>str13</th><th>float64</th><th>float64</th><th>float64</th><th>float64</th><th>float64</th><th>float64</th><th>int64</th><th>int64</th><th>str10</th></tr></thead>\n",
       "<tr><td>5776761</td><td>20190415</td><td>--</td><td>--</td><td>--</td><td>23142127-1313341</td><td>--</td><td>J231421.26-131334.1</td><td>2412009691624092288</td><td>--</td><td>--</td><td>STAR</td><td>tmgaia2</td><td>348.588593934909</td><td>-13.2261232042594</td><td>tmgaia2</td><td>2.89516</td><td>0.12406</td><td>-4.18207</td><td>0.0902301</td><td>gaia2</td><td>0.324766</td><td>0.0645956</td><td>gaia2</td><td>59.6063643801093</td><td>-63.3969146195759</td><td>344.327931112708</td><td>-7.66042024669333</td><td>16.577</td><td>0.058</td><td>16.4963</td><td>0.0459</td><td>nan</td><td>nan</td><td>nan</td><td>nan</td><td>nan</td><td>nan</td><td>nan</td><td>nan</td><td>nan</td><td>nan</td><td>15.277</td><td>0.045</td><td>14.968</td><td>0.079</td><td>15.122</td><td>0.15</td><td>AAB-222-111-000-0-0</td><td>nan</td><td>14.95</td><td>0.036</td><td>14.961</td><td>0.091</td><td>12.042</td><td>nan</td><td>8.546</td><td>nan</td><td>16.3645</td><td>0.000885</td><td>15.9481</td><td>0.007</td><td>rered</td><td>gaia2</td><td>5970.0</td><td>125.0</td><td>4.37081</td><td>nan</td><td>nan</td><td>nan</td><td>1.13325</td><td>nan</td><td>1.1</td><td>nan</td><td>0.755808</td><td>nan</td><td>DWARF</td><td>1.46975887</td><td>nan</td><td>2567.77</td><td>410.695</td><td>0.0242039</td><td>0.005339005</td><td>--</td><td>nan</td><td>--</td><td>--</td><td>nan</td><td>0.00491928</td><td>0.00575873</td><td>panstarrs</td><td>nan</td><td>nan</td><td>nan</td><td>nan</td><td>nan</td><td>nan</td><td>nan</td><td>nan</td><td>nan</td><td>nan</td><td>353.97</td><td>467.42</td><td>bj2018</td><td>nan</td><td>nan</td><td>dered</td><td>16.6818</td><td>0.005153</td><td>15.8894</td><td>0.005515</td><td>1</td><td>--</td><td>gaia2</td><td>bpbj</td><td>--</td><td>1.93668674308843</td><td>1.3993994937418</td><td>348.588606739836</td><td>-13.2261412103946</td><td>0.0582721701935259</td><td>0.0482757527741997</td><td>1</td><td>0</td><td>1723566892</td></tr>\n",
       "<tr><td>2760710</td><td>20190415</td><td>--</td><td>--</td><td>367-183508</td><td>23460664-1641284</td><td>--</td><td>J234606.59-164129.0</td><td>2394480109022713856</td><td>--</td><td>--</td><td>STAR</td><td>tmgaia2</td><td>356.527698726419</td><td>-16.6912491142161</td><td>tmgaia2</td><td>-76.0939</td><td>0.106798</td><td>-49.799</td><td>0.100054</td><td>gaia2</td><td>19.0763</td><td>0.0868836</td><td>gaia2</td><td>64.1950002448364</td><td>-71.6327489069668</td><td>350.064728765331</td><td>-13.9123533283017</td><td>18.263</td><td>0.162</td><td>18.44</td><td>0.2</td><td>nan</td><td>nan</td><td>nan</td><td>nan</td><td>nan</td><td>nan</td><td>nan</td><td>nan</td><td>nan</td><td>nan</td><td>12.126</td><td>0.023</td><td>11.504</td><td>0.025</td><td>11.25</td><td>0.025</td><td>AAA-222-111-000-0-0</td><td>nan</td><td>11.064</td><td>0.023</td><td>10.888</td><td>0.022</td><td>10.638</td><td>0.127</td><td>8.613</td><td>nan</td><td>15.2119</td><td>0.000854</td><td>13.8409</td><td>0.00758395</td><td>cdwrf</td><td>cdwrf</td><td>3176.0</td><td>157.0</td><td>4.99822</td><td>0.0148288</td><td>nan</td><td>nan</td><td>0.241339</td><td>0.00742622</td><td>0.211546</td><td>0.0201846</td><td>15.0495</td><td>0.050467</td><td>DWARF</td><td>0.00533914473</td><td>0.00139270723</td><td>52.3436</td><td>0.23985</td><td>0.0</td><td>0.0</td><td>42</td><td>0.08429367</td><td>--</td><td>--</td><td>0.00114930328</td><td>0.0</td><td>0.0</td><td>--</td><td>nan</td><td>nan</td><td>nan</td><td>nan</td><td>nan</td><td>nan</td><td>nan</td><td>nan</td><td>nan</td><td>nan</td><td>0.2388</td><td>0.2409</td><td>bj2018</td><td>nan</td><td>nan</td><td>cdwrf</td><td>16.9526</td><td>0.009991</td><td>13.9376</td><td>0.002379</td><td>1</td><td>--</td><td>cdwrf</td><td>bpbj</td><td>cooldwarfs_v8</td><td>1.67403029260944</td><td>1.55179899540684</td><td>356.527356688609</td><td>-16.6914635268598</td><td>0.0562025498423951</td><td>0.0546326054356668</td><td>1</td><td>0</td><td>1725445499</td></tr>\n",
       "</table>"
      ],
      "text/plain": [
       "<Table masked=True length=2>\n",
       "   ID   version   HIP  TYC  ...     e_Dec_orig     raddflag wdflag   objID   \n",
       "  str7    str8   int64 str1 ...      float64        int64   int64    str10   \n",
       "------- -------- ----- ---- ... ------------------ -------- ------ ----------\n",
       "5776761 20190415    --   -- ... 0.0482757527741997        1      0 1723566892\n",
       "2760710 20190415    --   -- ... 0.0546326054356668        1      0 1725445499"
      ]
     },
     "execution_count": 24,
     "metadata": {},
     "output_type": "execute_result"
    }
   ],
   "source": [
    "result"
   ]
  },
  {
   "cell_type": "markdown",
   "metadata": {},
   "source": [
    "Cool, here's our stars in the TIC. Now since we have the TIC ID, we just need to query the TESS 2-min data. Let's break down what we're asking for here:\n",
    "`target_name`: The list of TIC IDs from the previous query\n",
    "\n",
    "`project`: The project (or mission), in this case, TESS\n",
    "\n",
    "`dataproduct_type`: This is usually one of two things, a \"TIMESERIES\" or an \"IMAGE\". The \"IMAGE\"s hold the full frame 30-min cadence data, so we only want \"TIMESERIES\" here, which is the full extracted time-series.\n",
    "\n",
    "`obs_collection`: The observations"
   ]
  },
  {
   "cell_type": "code",
   "execution_count": 27,
   "metadata": {},
   "outputs": [],
   "source": [
    "query = Observations.query_criteria(target_name=result['ID'].tolist(), \n",
    "                                    project='TESS', \n",
    "                                    dataproduct_type=\"TIMESERIES\", \n",
    "                                    obs_collection='TESS')"
   ]
  },
  {
   "cell_type": "code",
   "execution_count": 28,
   "metadata": {},
   "outputs": [
    {
     "data": {
      "text/html": [
       "<i>Table masked=True length=1</i>\n",
       "<table id=\"table4780201424\" class=\"table-striped table-bordered table-condensed\">\n",
       "<thead><tr><th>dataproduct_type</th><th>calib_level</th><th>obs_collection</th><th>obs_id</th><th>target_name</th><th>s_ra</th><th>s_dec</th><th>t_min</th><th>t_max</th><th>t_exptime</th><th>wavelength_region</th><th>filters</th><th>em_min</th><th>em_max</th><th>target_classification</th><th>obs_title</th><th>t_obs_release</th><th>instrument_name</th><th>proposal_pi</th><th>proposal_id</th><th>proposal_type</th><th>project</th><th>sequence_number</th><th>provenance_name</th><th>s_region</th><th>jpegURL</th><th>dataURL</th><th>dataRights</th><th>mtFlag</th><th>srcDen</th><th>intentType</th><th>obsid</th><th>objID</th></tr></thead>\n",
       "<thead><tr><th>str10</th><th>int64</th><th>str4</th><th>str47</th><th>str7</th><th>float64</th><th>float64</th><th>float64</th><th>float64</th><th>float64</th><th>str7</th><th>str4</th><th>float64</th><th>float64</th><th>str1</th><th>str1</th><th>float64</th><th>str10</th><th>str14</th><th>str7</th><th>str1</th><th>str4</th><th>int64</th><th>str4</th><th>str48</th><th>str1</th><th>str73</th><th>str6</th><th>bool</th><th>float64</th><th>str7</th><th>str11</th><th>str11</th></tr></thead>\n",
       "<tr><td>timeseries</td><td>3</td><td>TESS</td><td>tess2018234235059-s0002-0000000002760710-0121-s</td><td>2760710</td><td>356.52769999866666</td><td>-16.69119999919046</td><td>58353.60117736</td><td>58381.01367064</td><td>120.0</td><td>Optical</td><td>TESS</td><td>600.0</td><td>1000.0</td><td>--</td><td>--</td><td>58458.58333</td><td>Photometer</td><td>Ricker, George</td><td>G011180</td><td>--</td><td>TESS</td><td>2</td><td>SPOC</td><td>CIRCLE ICRS 356.52770000 -16.69120000 0.00138889</td><td>--</td><td>mast:TESS/product/tess2018234235059-s0002-0000000002760710-0121-s_lc.fits</td><td>PUBLIC</td><td>False</td><td>nan</td><td>science</td><td>17000041893</td><td>17002544935</td></tr>\n",
       "</table>"
      ],
      "text/plain": [
       "<Table masked=True length=1>\n",
       "dataproduct_type calib_level obs_collection ...    obsid       objID   \n",
       "     str10          int64         str4      ...    str11       str11   \n",
       "---------------- ----------- -------------- ... ----------- -----------\n",
       "      timeseries           3           TESS ... 17000041893 17002544935"
      ]
     },
     "execution_count": 28,
     "metadata": {},
     "output_type": "execute_result"
    }
   ],
   "source": [
    "query"
   ]
  },
  {
   "cell_type": "markdown",
   "metadata": {},
   "source": [
    "Only one of our stars have been observed! What a shame .."
   ]
  }
 ],
 "metadata": {
  "kernelspec": {
   "display_name": "Python 3",
   "language": "python",
   "name": "python3"
  },
  "language_info": {
   "codemirror_mode": {
    "name": "ipython",
    "version": 3
   },
   "file_extension": ".py",
   "mimetype": "text/x-python",
   "name": "python",
   "nbconvert_exporter": "python",
   "pygments_lexer": "ipython3",
   "version": "3.7.4"
  }
 },
 "nbformat": 4,
 "nbformat_minor": 4
}
